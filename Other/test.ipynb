{
 "cells": [
  {
   "cell_type": "code",
   "execution_count": 8,
   "metadata": {
    "collapsed": true,
    "pycharm": {
     "is_executing": false
    }
   },
   "outputs": [
    {
     "name": "stdout",
     "text": [
      "thread MainThread is running...\nthread MainThread ended.\n7\n"
     ],
     "output_type": "stream"
    }
   ],
   "source": [
    "from time import ctime,sleep\n",
    "\n",
    "import threading\n",
    "\n",
    "def coding(language):\n",
    "    for i in range(5):\n",
    "        sleep(0.1)\n",
    "        print('I\\'m coding ',language, ' program at ', ctime() )\n",
    "\n",
    "def music():\n",
    "    for i in range(5):\n",
    "        sleep(0.1)\n",
    "\n",
    "        print('I\\'m listening music at ', ctime())\n",
    "\n",
    "print('thread %s is running...' % threading.current_thread().name)\n",
    "\n",
    "# thread_list = []\n",
    "t1 = threading.Thread(target=coding, args=('Python',))\n",
    "t2 = threading.Thread(target=music)\n",
    "\n",
    "\n",
    "\n",
    "t2.start()\n",
    "t1.start()\n",
    "print('thread %s ended.' % threading.current_thread().name)\n",
    "print(threading.active_count())\n",
    "\n",
    "# thread_list.append(t1)\n",
    "# thread_list.append(t2)\n",
    "\n",
    "# for t in thread_list:\n",
    "#     t.setDaemon(True)  # 设置为守护线程\n",
    "#     t.start()\n",
    "#     t.join()  # 在这个子线程完成运行之前，主线程将一直被阻塞\n",
    "\n",
    "\n",
    "\n"
   ]
  },
  {
   "cell_type": "code",
   "execution_count": 4,
   "outputs": [
    {
     "name": "stdout",
     "text": [
      "time.struct_time(tm_year=2019, tm_mon=6, tm_mday=7, tm_hour=17, tm_min=11, tm_sec=36, tm_wday=4, tm_yday=158, tm_isdst=0)\n2019-06-07 17:11:36\n"
     ],
     "output_type": "stream"
    }
   ],
   "source": [
    "import time\n",
    "now = time.time() \n",
    "int(now) \n",
    "tl = time.localtime(now)\n",
    "print(tl)\n",
    "format_time = time.strftime(\"%Y-%m-%d %H:%M:%S\", tl)\n",
    "print(format_time)\n",
    "\n"
   ],
   "metadata": {
    "collapsed": false,
    "pycharm": {
     "name": "#%%\n",
     "is_executing": false
    }
   }
  },
  {
   "cell_type": "code",
   "execution_count": 12,
   "outputs": [
    {
     "name": "stderr",
     "text": [
      "root        : INFO     fewfffdf1651efdfdwf\n"
     ],
     "output_type": "stream"
    }
   ],
   "source": [
    "from Mylog import logger\n",
    "\n",
    "msg = \"fewfffdf1651efdfdwf\"\n",
    "logger.info(msg)\n"
   ],
   "metadata": {
    "collapsed": false,
    "pycharm": {
     "name": "#%%\n",
     "is_executing": false
    }
   }
  }
 ],
 "metadata": {
  "language_info": {
   "codemirror_mode": {
    "name": "ipython",
    "version": 2
   },
   "file_extension": ".py",
   "mimetype": "text/x-python",
   "name": "python",
   "nbconvert_exporter": "python",
   "pygments_lexer": "ipython2",
   "version": "2.7.6"
  },
  "kernelspec": {
   "name": "python3",
   "language": "python",
   "display_name": "Python 3"
  },
  "pycharm": {
   "stem_cell": {
    "cell_type": "raw",
    "source": [],
    "metadata": {
     "collapsed": false
    }
   }
  }
 },
 "nbformat": 4,
 "nbformat_minor": 0
}